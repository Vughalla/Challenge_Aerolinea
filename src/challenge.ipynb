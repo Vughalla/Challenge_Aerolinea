{
 "cells": [
  {
   "cell_type": "markdown",
   "metadata": {},
   "source": [
    "En este archivo puedes escribir lo que estimes conveniente. Te recomendamos detallar tu solución y todas las suposiciones que estás considerando. Aquí puedes ejecutar las funciones que definiste en los otros archivos de la carpeta src, medir el tiempo, memoria, etc."
   ]
  },
  {
   "cell_type": "markdown",
   "metadata": {},
   "source": [
    "Para resolver este challenge hice uso de principalmente de dos herramientas para el procesamiento de datos: Pandas y PySpark. Ambas, ampliamente utilizadas en el ámbito de la ingeniería de datos.\n",
    "\n",
    "Pandas por su parte es ideal para conjuntos de datos de tamaño moderado que caben cómodamente en la memoria de un solo nodo. Si bien su tiempo de ejecución es más lento que Pyspark, tiene una gran capacidad para trabajar con datos estructurados de forma intuitiva y realizar tareas de limpieza, transformación y preparación de datos.\n",
    "\n",
    "Por otro lado, PySpark es ideal para trabajar con conjuntos de datos de gran escala. Gracias a su arquitectura distribuida aprovecha todos los nodos y si bien esto hace que consuma más memoria, el tiempo de ejecución es significativamente más bajo que herramientas como Pandas. Permite escalar horizontalmente y tiene gran tolerancia a fallos\n",
    "\n",
    "Por todo esto decidí usar Pandas cuando el tamaño de los datos era manejable en memoria y las operaciones requeridas podían realizarse eficientemente en un solo nodo. Recurrí a PySpark cuando necesitábamos procesar los datos de manera distribuida para obtener resultados en un tiempo mucho menor."
   ]
  },
  {
   "cell_type": "code",
   "execution_count": null,
   "metadata": {},
   "outputs": [],
   "source": [
    "file_path = \"farmers-protest-tweets-2021-2-4.json\""
   ]
  },
  {
   "cell_type": "code",
   "execution_count": null,
   "metadata": {},
   "outputs": [],
   "source": [
    "import os\n",
    "from q1_memory import *\n",
    "from q2_memory import *\n",
    "from q3_memory import *\n",
    "from q1_time import *\n",
    "from q2_time import *\n",
    "from q3_time import *"
   ]
  },
  {
   "cell_type": "code",
   "execution_count": null,
   "metadata": {},
   "outputs": [],
   "source": [
    "base_path = os.getcwd().replace('\\\\', '/')\n",
    "file_path = \"farmers-protest-tweets-2021-2-4.json\""
   ]
  },
  {
   "cell_type": "code",
   "execution_count": null,
   "metadata": {},
   "outputs": [],
   "source": [
    "r_q1_memory = q1_memory(f'{base_path}/{file_path}')\n",
    "print(r_q1_memory)"
   ]
  },
  {
   "cell_type": "code",
   "execution_count": null,
   "metadata": {},
   "outputs": [],
   "source": [
    "r_q1_time = q1_time(f'{base_path}/{file_path}')\n",
    "print(r_q1_time)"
   ]
  },
  {
   "cell_type": "code",
   "execution_count": null,
   "metadata": {},
   "outputs": [],
   "source": [
    "r_q2_memory = q2_memory(f'{base_path}/{file_path}')\n",
    "print(r_q2_memory)"
   ]
  },
  {
   "cell_type": "code",
   "execution_count": null,
   "metadata": {},
   "outputs": [],
   "source": [
    "r_q2_time = q2_time(f'{base_path}/{file_path}')\n",
    "print(r_q2_time)"
   ]
  },
  {
   "cell_type": "code",
   "execution_count": null,
   "metadata": {},
   "outputs": [],
   "source": [
    "r_q3_memory = q3_memory(f'{base_path}/{file_path}')\n",
    "print(r_q3_memory)"
   ]
  },
  {
   "cell_type": "code",
   "execution_count": null,
   "metadata": {},
   "outputs": [],
   "source": [
    "r_q3_time = q3_time(f'{base_path}/{file_path}')\n",
    "print(r_q3_time)"
   ]
  }
 ],
 "metadata": {
  "language_info": {
   "name": "python"
  },
  "orig_nbformat": 4
 },
 "nbformat": 4,
 "nbformat_minor": 2
}
